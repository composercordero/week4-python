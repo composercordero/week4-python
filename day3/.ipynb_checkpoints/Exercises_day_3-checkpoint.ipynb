{
 "cells": [
  {
   "cell_type": "markdown",
   "metadata": {},
   "source": [
    "# Exercises"
   ]
  },
  {
   "cell_type": "markdown",
   "metadata": {},
   "source": [
    "### Exercise #1 <br>\n",
    "<p>Write a function that takes a list of integers and returns the median value</p>"
   ]
  },
  {
   "cell_type": "code",
   "execution_count": 57,
   "metadata": {},
   "outputs": [
    {
     "name": "stdout",
     "output_type": "stream",
     "text": [
      "The length of the list is 16\n",
      "The median is 5436 at li[7]\n"
     ]
    }
   ],
   "source": [
    "# The median is the number that lies in the middle of an ordered dataset \n",
    "# that goes from lowest to highest. \n",
    "\n",
    "# I had originally done it based on the index.\n",
    "\n",
    "def find_median(li):\n",
    "    return li[(len(li) - 1) // 2]\n",
    "        \n",
    "\n",
    "li_int = [1,2,3,4,10,11,5435234,5436, 547,75473,7373,86553,6543,7543,354,76373]\n",
    "\n",
    "print(f'The length of the list is {len(li_int)}')\n",
    "print(f'The median is {find_median(li_int)} at li[{(len(li_int) - 1) // 2}]')"
   ]
  },
  {
   "cell_type": "code",
   "execution_count": 12,
   "metadata": {},
   "outputs": [
    {
     "name": "stdout",
     "output_type": "stream",
     "text": [
      "3.5\n",
      "10\n"
     ]
    }
   ],
   "source": [
    "def find_median(li):\n",
    "    if len(li) % 2 == 0:\n",
    "        left_side = len(li) // 2\n",
    "        right_side = len(li) // 2 - 1\n",
    "        return (li[left_side] + li[right_side]) / 2\n",
    "    else:\n",
    "        mid = len(li) // 2\n",
    "        return li[mid]\n",
    "    \n",
    "print(find_median([1,2,3,4,10,21]))\n",
    "print(find_median([1,2,3,4,10,11,12,13,14]))  "
   ]
  },
  {
   "cell_type": "markdown",
   "metadata": {},
   "source": [
    "### Exercise #2 <br>\n",
    "<p>Create a function that counts how many distinct words are in the string below, then outputs a dictionary with the words as the key and the value as the amount of times that word appears in the string.</p>\n",
    "Example Output:<code>{'in': 1, 'computing': 1, 'a': 5, ...}</code>"
   ]
  },
  {
   "cell_type": "code",
   "execution_count": 104,
   "metadata": {},
   "outputs": [
    {
     "name": "stdout",
     "output_type": "stream",
     "text": [
      "{'in': 1, 'computing': 1, 'a': 5, 'hash': 4, 'table': 2, 'map': 2, 'is': 1, 'data': 2, 'structure': 2, 'which': 2, 'implements': 1, 'an': 3, 'associative': 1, 'array': 2, 'abstract': 1, 'type': 1, 'that': 1, 'can': 2, 'keys': 1, 'to': 2, 'values': 1, 'uses': 1, 'function': 1, 'compute': 1, 'index': 1, 'into': 1, 'of': 1, 'buckets': 1, 'or': 1, 'slots': 1, 'from': 1, 'the': 1, 'desired': 1, 'value': 1, 'be': 1, 'found': 1}\n"
     ]
    }
   ],
   "source": [
    "import re\n",
    "# import string\n",
    "\n",
    "a_text = 'In computing, a hash table hash map is a data structure which implements \\\n",
    "an associative array abstract data type, a structure that can map keys to values. \\\n",
    "A hash table uses a hash function to compute an index into an array of buckets or slots \\\n",
    "from which the desired value can be found'\n",
    "\n",
    "def count_words(str):\n",
    "    new_di = {}\n",
    "    regex = re.compile('[%s]' % re.escape(string.punctuation))\n",
    "    clean_string = regex.sub('', a_text.lower())\n",
    "    \n",
    "    # Options to Clean String\n",
    "    \n",
    "    # re.findall('w/+', a_text)\n",
    "    \n",
    "    # str.strip(',.')\n",
    "\n",
    "    for word in clean_string.split():\n",
    "        if word not in new_di:\n",
    "            new_di[word] = 1\n",
    "        else:\n",
    "            new_di[word] += 1\n",
    "    return(new_di)\n",
    "\n",
    "print(count_words(a_text))\n",
    "\n"
   ]
  },
  {
   "cell_type": "markdown",
   "metadata": {},
   "source": [
    "## Exercise #3\n",
    "\n",
    "Write a function implementing a Linear Search Algorithm. A linear search is a method for finding an element within a list. It sequentially checks each element of the list until a match is found or the whole list has been searched. If you do not find a match, return -1"
   ]
  },
  {
   "cell_type": "code",
   "execution_count": 32,
   "metadata": {},
   "outputs": [
    {
     "name": "stdout",
     "output_type": "stream",
     "text": [
      "Example 1:\n",
      "True\n",
      "-1\n",
      "\n",
      "Example 2:\n",
      "True\n",
      "-1\n"
     ]
    }
   ],
   "source": [
    "def linear_search(li):\n",
    "    for str in li:\n",
    "        if str == 'a':\n",
    "            return True\n",
    "    return -1\n",
    "print('Example 1:')\n",
    "print(linear_search(['4', 'hola', 'a']))\n",
    "print(linear_search(['4', 'hola', 'b', 'lfal']))\n",
    "\n",
    "\n",
    "def linear_search2(li, target):\n",
    "    for i in range(len(li)):\n",
    "        if li[i] == target:\n",
    "            return True\n",
    "    return -1\n",
    "\n",
    "print('\\nExample 2:')\n",
    "print(linear_search2(['4', 'hola', 'a'], 'a'))\n",
    "print(linear_search2(['4', 'hola', 'b', 'lfal'],'a'))"
   ]
  }
 ],
 "metadata": {
  "kernelspec": {
   "display_name": "Python 3 (ipykernel)",
   "language": "python",
   "name": "python3"
  },
  "language_info": {
   "codemirror_mode": {
    "name": "ipython",
    "version": 3
   },
   "file_extension": ".py",
   "mimetype": "text/x-python",
   "name": "python",
   "nbconvert_exporter": "python",
   "pygments_lexer": "ipython3",
   "version": "3.10.9"
  }
 },
 "nbformat": 4,
 "nbformat_minor": 2
}
