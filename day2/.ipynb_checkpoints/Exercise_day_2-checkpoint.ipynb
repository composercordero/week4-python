{
 "cells": [
  {
   "cell_type": "markdown",
   "metadata": {},
   "source": [
    "# Exercises"
   ]
  },
  {
   "cell_type": "markdown",
   "metadata": {},
   "source": [
    "### Exercise #1 <br>\n",
    "<p>Filter out all of the empty strings from the list below</p>\n",
    "\n",
    "`Output: ['Argentina', 'San Diego', 'Boston', 'New York']`"
   ]
  },
  {
   "cell_type": "code",
   "execution_count": 20,
   "metadata": {},
   "outputs": [
    {
     "name": "stdout",
     "output_type": "stream",
     "text": [
      "Original String\n",
      "\n",
      "[' ', 'Argentina', ' ', 'San Diego', '', '  ', '', 'Boston', 'New York', 'DC']\n",
      "================================================================================\n",
      "\n",
      "Through Regex and lambda\n",
      "\n",
      "['Argentina', 'San Diego', 'Boston', 'New York', 'DC']\n",
      "================================================================================\n",
      "\n",
      "lambda and is alpha\n",
      "\n",
      "['Argentina', 'San Diego', 'Boston', 'New York', 'DC']\n"
     ]
    }
   ],
   "source": [
    "import re\n",
    "\n",
    "places = [\" \", \"Argentina\", \" \", \"San Diego\", \"\" , \"  \" , \"\" ,\"Boston\",\"New York\", \"DC\"]\n",
    "\n",
    "regex = '\\w+'\n",
    "\n",
    "just_places = list(filter(lambda place: re.match(regex, place),places))\n",
    "\n",
    "places2 = list(filter(lambda place: place[0].isalpha() if place else False, places))\n",
    "\n",
    "print('Original String\\n')\n",
    "print(places)\n",
    "print('='*80)\n",
    "print('\\nThrough Regex and lambda\\n')\n",
    "print(just_places)\n",
    "print('='*80)\n",
    "print('\\nlambda and is alpha\\n')\n",
    "print(places2)\n"
   ]
  },
  {
   "cell_type": "markdown",
   "metadata": {},
   "source": [
    "### Exercise #2 <br>\n",
    "<p>Write an anonymous function that sorts this list by the last name...<br><b>Hint: Use the \".sort()\" method and access the key\"</b></p>\n",
    "\n",
    "`Output: ['Victor aNisimov', 'Gary A.J. Bernstein', 'Joel Carter', 'Andrew P. Garfield', 'David hassELHOFF']`"
   ]
  },
  {
   "cell_type": "code",
   "execution_count": 199,
   "metadata": {
    "scrolled": true
   },
   "outputs": [
    {
     "name": "stdout",
     "output_type": "stream",
     "text": [
      "['Victor aNisimov', 'Gary A.J. Bernstein', 'Joel Carter', 'Andrew P. Garfield', 'David hassELHOFF']\n",
      "\n",
      "Celebration Dance!\n"
     ]
    }
   ],
   "source": [
    "author = [\"Joel Carter\", \"Victor aNisimov\", \"Andrew P. Garfield\", \"David hassELHOFF\", \"Gary A.J. Bernstein\"]\n",
    "\n",
    "sorted_authors = sorted(author, key=lambda name: name.split(' ')[-1].lower())\n",
    "\n",
    "print(sorted_authors)\n",
    "\n",
    "print('\\nCelebration Dance!')\n"
   ]
  },
  {
   "cell_type": "code",
   "execution_count": null,
   "metadata": {},
   "outputs": [],
   "source": [
    "#Process / Scratch'\n",
    "\n",
    "# new_li = []\n",
    "\n",
    "# last_names = list(map(lambda name: new_li.append(name.split(' ')[-1].lower()), author))\n",
    "\n",
    "\n",
    "\n",
    "# sorted or li.sort look at help\n",
    "\n",
    "# split\n",
    "# -1 to access last item in the list\n",
    "# sort by that with a lambda that lowers and then checks for the unicode?"
   ]
  },
  {
   "cell_type": "code",
   "execution_count": 158,
   "metadata": {
    "scrolled": true
   },
   "outputs": [
    {
     "name": "stdout",
     "output_type": "stream",
     "text": [
      "Help on built-in function sorted in module builtins:\n",
      "\n",
      "sorted(iterable, /, *, key=None, reverse=False)\n",
      "    Return a new list containing all items from the iterable in ascending order.\n",
      "    \n",
      "    A custom key function can be supplied to customize the sort order, and the\n",
      "    reverse flag can be set to request the result in descending order.\n",
      "\n"
     ]
    }
   ],
   "source": [
    "help(sorted)"
   ]
  },
  {
   "cell_type": "code",
   "execution_count": 162,
   "metadata": {},
   "outputs": [
    {
     "name": "stdout",
     "output_type": "stream",
     "text": [
      "Help on method_descriptor:\n",
      "\n",
      "sort(self, /, *, key=None, reverse=False)\n",
      "    Sort the list in ascending order and return None.\n",
      "    \n",
      "    The sort is in-place (i.e. the list itself is modified) and stable (i.e. the\n",
      "    order of two equal elements is maintained).\n",
      "    \n",
      "    If a key function is given, apply it once to each list item and sort them,\n",
      "    ascending or descending, according to their function values.\n",
      "    \n",
      "    The reverse flag can be set to sort in descending order.\n",
      "\n"
     ]
    }
   ],
   "source": [
    "help(list.sort)"
   ]
  },
  {
   "cell_type": "markdown",
   "metadata": {},
   "source": [
    "### Exercise #3 <br>\n",
    "<p>Convert the list below from Celsius to Farhenheit, using the map function with a lambda...</p>\n",
    "\n",
    "`Output: [('Nashua', 89.6), ('Boston', 53.6), ('Los Angeles', 111.2), ('Miami', 84.2)]\n",
    "`"
   ]
  },
  {
   "cell_type": "code",
   "execution_count": 239,
   "metadata": {
    "scrolled": false
   },
   "outputs": [
    {
     "name": "stdout",
     "output_type": "stream",
     "text": [
      "[('Nashua', 89.6), ('Boston', 53.6), ('Los Angeles', 111.2), ('Miami', 84.2)]\n"
     ]
    }
   ],
   "source": [
    "# F = (9/5)*C + 32\n",
    "places = [('Nashua',32),(\"Boston\",12),(\"Los Angeles\",44),(\"Miami\",29)]\n",
    "    \n",
    "farhenheit = list(map(lambda place: (place[0],(9/5) * place[1] + 32), places))\n",
    "\n",
    "print(farhenheit)"
   ]
  },
  {
   "cell_type": "code",
   "execution_count": 21,
   "metadata": {},
   "outputs": [
    {
     "name": "stdout",
     "output_type": "stream",
     "text": [
      "[{'name': 'Brian', 'height': 177.8}, {'name': 'Sarah', 'height': 152.4}, {'name': 'Sam', 'height': 215.9}]\n"
     ]
    }
   ],
   "source": [
    "# height is in inches, want to convert to cm => 1in = 2.54cm\n",
    "\n",
    "people = [{'name': 'Brian', 'height': 70}, {'name': 'Sarah', 'height': 60}, {'name': 'Sam', 'height': 85}]\n",
    "\n",
    "\n",
    "metric_people = list(map(lambda a_dict: {'name': a_dict['name'], 'height': a_dict['height']*2.54}, people))\n",
    "\n",
    "print(metric_people)"
   ]
  },
  {
   "cell_type": "markdown",
   "metadata": {},
   "source": [
    "### Exercise #4 <br>\n",
    "<p>Write a recursion function to perform the fibonacci sequence up to the number passed in.</p>\n",
    "\n",
    "```\n",
    "Output for fib(5) => \n",
    "Iteration 0: 1\n",
    "Iteration 1: 1\n",
    "Iteration 2: 2\n",
    "Iteration 3: 3\n",
    "Iteration 4: 5\n",
    "Iteration 5: 8\n",
    "```"
   ]
  },
  {
   "cell_type": "code",
   "execution_count": 14,
   "metadata": {
    "scrolled": true
   },
   "outputs": [
    {
     "name": "stdout",
     "output_type": "stream",
     "text": [
      "Iteration 0: 1\n",
      "Iteration 1: 1\n",
      "Iteration 2: 2\n",
      "Iteration 3: 3\n",
      "Iteration 4: 5\n",
      "Iteration 5: 8\n",
      "Iteration 6: 13\n",
      "\n",
      "This is the cache to save the results of the recursion and avoid performing the same each time\n",
      "{0: 1, 1: 1, 2: 2, 3: 3, 4: 5, 5: 8, 6: 13}\n"
     ]
    }
   ],
   "source": [
    "def hide_the_cache():\n",
    "    global cache\n",
    "    cache = {}\n",
    "    \n",
    "    def calculate_fib(num):\n",
    "        if num in cache:\n",
    "            return cache[num]  \n",
    "        elif num <= 1:\n",
    "            cache[num] = 1\n",
    "            return 1\n",
    "        else:\n",
    "            answer = fib(num-1) + fib(num-2)\n",
    "            cache[num] = answer\n",
    "            return answer\n",
    "    return calculate_fib\n",
    "\n",
    "fib = hide_the_cache()  \n",
    "        \n",
    "n = 6\n",
    "for i in range(n+1):\n",
    "    print(f\"Iteration {i}: {fib(i)}\")\n",
    "    \n",
    "print(f'\\nThis is the cache to save the results of the recursion and avoid performing the same function\\\n",
    "each time\\n{cache}')\n",
    "    \n",
    "# reduce method or loop recursive"
   ]
  },
  {
   "cell_type": "code",
   "execution_count": 23,
   "metadata": {},
   "outputs": [
    {
     "name": "stdout",
     "output_type": "stream",
     "text": [
      "Iteration 0: 1\n",
      "Iteration 1: 1\n",
      "Iteration 2: 2\n",
      "Iteration 3: 3\n",
      "Iteration 4: 5\n",
      "Iteration 5: 8\n",
      "Iteration 6: 13\n",
      "{0: 1, 1: 1, 2: 2, 3: 3, 4: 5, 5: 8, 6: 13}\n"
     ]
    }
   ],
   "source": [
    "cache = {}\n",
    "\n",
    "    \n",
    "def fib(num):\n",
    "    if num in cache:\n",
    "        return cache[num]  \n",
    "    elif num <= 1:\n",
    "        cache[num] = 1\n",
    "        return 1\n",
    "    else:\n",
    "        answer = fib(num-1) + fib(num-2)\n",
    "        cache[num] = answer\n",
    "        return answer\n",
    "\n",
    "  \n",
    "n = 6\n",
    "for i in range(n+1):\n",
    "    print(f\"Iteration {i}: {fib(i)}\")\n",
    "\n",
    "print(cache)"
   ]
  },
  {
   "cell_type": "markdown",
   "metadata": {},
   "source": [
    "### Exercise #5<br>\n",
    "<p>Create a generator that takes a number argument and yields that number squared to zero (0), then call the generator and iterate through and print the result.</p>"
   ]
  },
  {
   "cell_type": "code",
   "execution_count": 24,
   "metadata": {
    "scrolled": true
   },
   "outputs": [
    {
     "name": "stdout",
     "output_type": "stream",
     "text": [
      "100\n",
      "81\n",
      "64\n",
      "49\n",
      "36\n",
      "25\n",
      "16\n",
      "9\n",
      "4\n",
      "1\n",
      "0\n"
     ]
    }
   ],
   "source": [
    "def my_gen2(num):\n",
    "    while num >= 0:\n",
    "        yield num ** 2\n",
    "        num -= 1\n",
    "\n",
    "for x in my_gen2(10):\n",
    "    print(x)\n",
    "\n",
    "\n",
    "# 100\n",
    "# 81\n",
    "# 64\n",
    "# 49\n",
    "# 36\n",
    "# 25\n",
    "# 16\n",
    "# 9\n",
    "# 4\n",
    "# 1\n",
    "# 0"
   ]
  },
  {
   "cell_type": "code",
   "execution_count": 25,
   "metadata": {},
   "outputs": [],
   "source": [
    "x = my_gen2(20)"
   ]
  },
  {
   "cell_type": "code",
   "execution_count": 31,
   "metadata": {},
   "outputs": [
    {
     "data": {
      "text/plain": [
       "225"
      ]
     },
     "execution_count": 31,
     "metadata": {},
     "output_type": "execute_result"
    }
   ],
   "source": [
    "next(x)"
   ]
  }
 ],
 "metadata": {
  "kernelspec": {
   "display_name": "Python 3 (ipykernel)",
   "language": "python",
   "name": "python3"
  },
  "language_info": {
   "codemirror_mode": {
    "name": "ipython",
    "version": 3
   },
   "file_extension": ".py",
   "mimetype": "text/x-python",
   "name": "python",
   "nbconvert_exporter": "python",
   "pygments_lexer": "ipython3",
   "version": "3.10.9"
  }
 },
 "nbformat": 4,
 "nbformat_minor": 2
}
